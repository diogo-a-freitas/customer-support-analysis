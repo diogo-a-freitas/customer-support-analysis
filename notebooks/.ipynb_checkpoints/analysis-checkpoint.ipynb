{
 "cells": [
  {
   "cell_type": "markdown",
   "id": "51256a81",
   "metadata": {},
   "source": [
    "# IMPORT MAIN LIBRARIES"
   ]
  },
  {
   "cell_type": "code",
   "execution_count": 1,
   "id": "05fec200",
   "metadata": {},
   "outputs": [],
   "source": [
    "import pandas as pd\n",
    "import matplotlib.pyplot as plt\n",
    "import seaborn as sns"
   ]
  },
  {
   "cell_type": "markdown",
   "id": "6f072817",
   "metadata": {},
   "source": [
    "## Import Dataset"
   ]
  },
  {
   "cell_type": "markdown",
   "id": "4e488e55",
   "metadata": {},
   "source": [
    "<ul>\n",
    "    <li><b>Ticket ID</b>: A unique identifier for each ticket.</li>\n",
    "<li><b>Customer Name</b>: The name of the customer who raised the ticket.</li>\n",
    "<li><b>Customer Email</b>: The email address of the customer (Domain name - @example.com is intentional for user data privacy concern).</li>\n",
    "<li><b>Customer Age</b>: The age of the customer.</li>\n",
    "<li><b>Customer Gender</b>: The gender of the customer.</li>\n",
    "<li><b>Product Purchased</b>: The tech product purchased by the customer.</li>\n",
    "<li><b>Date of Purchase</b>: The date when the product was purchased.</li>\n",
    "<li><b>Ticket Type</b>: The type of ticket (e.g., technical issue, billing inquiry, product inquiry).</li>\n",
    "<li><b>Ticket Subject</b>: The subject/topic of the ticket.</li>\n",
    "<li><b>Ticket Description</b>: The description of the customer's issue or inquiry.</li>\n",
    "<li><b>Ticket Status</b>: The status of the ticket (e.g., open, closed, pending customer response).</li>\n",
    "<li><b>Resolution</b>: The resolution or solution provided for closed tickets.</li>\n",
    "<li><b>Ticket Priority</b>: The priority level assigned to the ticket (e.g., low, medium, high, critical).</li>\n",
    "<li><b>Ticket Channel</b>: The channel through which the ticket was raised (e.g., email, phone, chat, social media).</li>\n",
    "<li><b>First Response Time</b>: The time taken to provide the first response to the customer.</li>\n",
    "<li><b>Time to Resolution</b>: The time taken to resolve the ticket.</li>\n",
    "<li><b>Customer Satisfaction Rating</b>: The customer's satisfaction rating for closed tickets (on a scale of 1 to 5).</li>\n",
    "    </ul>"
   ]
  },
  {
   "cell_type": "code",
   "execution_count": 3,
   "id": "62c4a3bd",
   "metadata": {},
   "outputs": [],
   "source": [
    "cs_data = pd.read_csv('../raw_data/customer_support_tickets.csv')"
   ]
  },
  {
   "cell_type": "code",
   "execution_count": 5,
   "id": "2b58eaff",
   "metadata": {
    "scrolled": true
   },
   "outputs": [
    {
     "data": {
      "text/html": [
       "<div>\n",
       "<style scoped>\n",
       "    .dataframe tbody tr th:only-of-type {\n",
       "        vertical-align: middle;\n",
       "    }\n",
       "\n",
       "    .dataframe tbody tr th {\n",
       "        vertical-align: top;\n",
       "    }\n",
       "\n",
       "    .dataframe thead th {\n",
       "        text-align: right;\n",
       "    }\n",
       "</style>\n",
       "<table border=\"1\" class=\"dataframe\">\n",
       "  <thead>\n",
       "    <tr style=\"text-align: right;\">\n",
       "      <th></th>\n",
       "      <th>Ticket ID</th>\n",
       "      <th>Customer Name</th>\n",
       "      <th>Customer Email</th>\n",
       "      <th>Customer Age</th>\n",
       "      <th>Customer Gender</th>\n",
       "      <th>Product Purchased</th>\n",
       "      <th>Date of Purchase</th>\n",
       "      <th>Ticket Type</th>\n",
       "      <th>Ticket Subject</th>\n",
       "      <th>Ticket Description</th>\n",
       "      <th>Ticket Status</th>\n",
       "      <th>Resolution</th>\n",
       "      <th>Ticket Priority</th>\n",
       "      <th>Ticket Channel</th>\n",
       "      <th>First Response Time</th>\n",
       "      <th>Time to Resolution</th>\n",
       "      <th>Customer Satisfaction Rating</th>\n",
       "    </tr>\n",
       "  </thead>\n",
       "  <tbody>\n",
       "    <tr>\n",
       "      <th>0</th>\n",
       "      <td>1</td>\n",
       "      <td>Marisa Obrien</td>\n",
       "      <td>carrollallison@example.com</td>\n",
       "      <td>32</td>\n",
       "      <td>Other</td>\n",
       "      <td>GoPro Hero</td>\n",
       "      <td>2021-03-22</td>\n",
       "      <td>Technical issue</td>\n",
       "      <td>Product setup</td>\n",
       "      <td>I'm having an issue with the {product_purchase...</td>\n",
       "      <td>Pending Customer Response</td>\n",
       "      <td>NaN</td>\n",
       "      <td>Critical</td>\n",
       "      <td>Social media</td>\n",
       "      <td>2023-06-01 12:15:36</td>\n",
       "      <td>NaN</td>\n",
       "      <td>NaN</td>\n",
       "    </tr>\n",
       "    <tr>\n",
       "      <th>1</th>\n",
       "      <td>2</td>\n",
       "      <td>Jessica Rios</td>\n",
       "      <td>clarkeashley@example.com</td>\n",
       "      <td>42</td>\n",
       "      <td>Female</td>\n",
       "      <td>LG Smart TV</td>\n",
       "      <td>2021-05-22</td>\n",
       "      <td>Technical issue</td>\n",
       "      <td>Peripheral compatibility</td>\n",
       "      <td>I'm having an issue with the {product_purchase...</td>\n",
       "      <td>Pending Customer Response</td>\n",
       "      <td>NaN</td>\n",
       "      <td>Critical</td>\n",
       "      <td>Chat</td>\n",
       "      <td>2023-06-01 16:45:38</td>\n",
       "      <td>NaN</td>\n",
       "      <td>NaN</td>\n",
       "    </tr>\n",
       "    <tr>\n",
       "      <th>2</th>\n",
       "      <td>3</td>\n",
       "      <td>Christopher Robbins</td>\n",
       "      <td>gonzalestracy@example.com</td>\n",
       "      <td>48</td>\n",
       "      <td>Other</td>\n",
       "      <td>Dell XPS</td>\n",
       "      <td>2020-07-14</td>\n",
       "      <td>Technical issue</td>\n",
       "      <td>Network problem</td>\n",
       "      <td>I'm facing a problem with my {product_purchase...</td>\n",
       "      <td>Closed</td>\n",
       "      <td>Case maybe show recently my computer follow.</td>\n",
       "      <td>Low</td>\n",
       "      <td>Social media</td>\n",
       "      <td>2023-06-01 11:14:38</td>\n",
       "      <td>2023-06-01 18:05:38</td>\n",
       "      <td>3.0</td>\n",
       "    </tr>\n",
       "    <tr>\n",
       "      <th>3</th>\n",
       "      <td>4</td>\n",
       "      <td>Christina Dillon</td>\n",
       "      <td>bradleyolson@example.org</td>\n",
       "      <td>27</td>\n",
       "      <td>Female</td>\n",
       "      <td>Microsoft Office</td>\n",
       "      <td>2020-11-13</td>\n",
       "      <td>Billing inquiry</td>\n",
       "      <td>Account access</td>\n",
       "      <td>I'm having an issue with the {product_purchase...</td>\n",
       "      <td>Closed</td>\n",
       "      <td>Try capital clearly never color toward story.</td>\n",
       "      <td>Low</td>\n",
       "      <td>Social media</td>\n",
       "      <td>2023-06-01 07:29:40</td>\n",
       "      <td>2023-06-01 01:57:40</td>\n",
       "      <td>3.0</td>\n",
       "    </tr>\n",
       "    <tr>\n",
       "      <th>4</th>\n",
       "      <td>5</td>\n",
       "      <td>Alexander Carroll</td>\n",
       "      <td>bradleymark@example.com</td>\n",
       "      <td>67</td>\n",
       "      <td>Female</td>\n",
       "      <td>Autodesk AutoCAD</td>\n",
       "      <td>2020-02-04</td>\n",
       "      <td>Billing inquiry</td>\n",
       "      <td>Data loss</td>\n",
       "      <td>I'm having an issue with the {product_purchase...</td>\n",
       "      <td>Closed</td>\n",
       "      <td>West decision evidence bit.</td>\n",
       "      <td>Low</td>\n",
       "      <td>Email</td>\n",
       "      <td>2023-06-01 00:12:42</td>\n",
       "      <td>2023-06-01 19:53:42</td>\n",
       "      <td>1.0</td>\n",
       "    </tr>\n",
       "  </tbody>\n",
       "</table>\n",
       "</div>"
      ],
      "text/plain": [
       "   Ticket ID        Customer Name              Customer Email  Customer Age  \\\n",
       "0          1        Marisa Obrien  carrollallison@example.com            32   \n",
       "1          2         Jessica Rios    clarkeashley@example.com            42   \n",
       "2          3  Christopher Robbins   gonzalestracy@example.com            48   \n",
       "3          4     Christina Dillon    bradleyolson@example.org            27   \n",
       "4          5    Alexander Carroll     bradleymark@example.com            67   \n",
       "\n",
       "  Customer Gender Product Purchased Date of Purchase      Ticket Type  \\\n",
       "0           Other        GoPro Hero       2021-03-22  Technical issue   \n",
       "1          Female       LG Smart TV       2021-05-22  Technical issue   \n",
       "2           Other          Dell XPS       2020-07-14  Technical issue   \n",
       "3          Female  Microsoft Office       2020-11-13  Billing inquiry   \n",
       "4          Female  Autodesk AutoCAD       2020-02-04  Billing inquiry   \n",
       "\n",
       "             Ticket Subject  \\\n",
       "0             Product setup   \n",
       "1  Peripheral compatibility   \n",
       "2           Network problem   \n",
       "3            Account access   \n",
       "4                 Data loss   \n",
       "\n",
       "                                  Ticket Description  \\\n",
       "0  I'm having an issue with the {product_purchase...   \n",
       "1  I'm having an issue with the {product_purchase...   \n",
       "2  I'm facing a problem with my {product_purchase...   \n",
       "3  I'm having an issue with the {product_purchase...   \n",
       "4  I'm having an issue with the {product_purchase...   \n",
       "\n",
       "               Ticket Status                                     Resolution  \\\n",
       "0  Pending Customer Response                                            NaN   \n",
       "1  Pending Customer Response                                            NaN   \n",
       "2                     Closed   Case maybe show recently my computer follow.   \n",
       "3                     Closed  Try capital clearly never color toward story.   \n",
       "4                     Closed                    West decision evidence bit.   \n",
       "\n",
       "  Ticket Priority Ticket Channel  First Response Time   Time to Resolution  \\\n",
       "0        Critical   Social media  2023-06-01 12:15:36                  NaN   \n",
       "1        Critical           Chat  2023-06-01 16:45:38                  NaN   \n",
       "2             Low   Social media  2023-06-01 11:14:38  2023-06-01 18:05:38   \n",
       "3             Low   Social media  2023-06-01 07:29:40  2023-06-01 01:57:40   \n",
       "4             Low          Email  2023-06-01 00:12:42  2023-06-01 19:53:42   \n",
       "\n",
       "   Customer Satisfaction Rating  \n",
       "0                           NaN  \n",
       "1                           NaN  \n",
       "2                           3.0  \n",
       "3                           3.0  \n",
       "4                           1.0  "
      ]
     },
     "execution_count": 5,
     "metadata": {},
     "output_type": "execute_result"
    }
   ],
   "source": [
    "cs_data.head()"
   ]
  },
  {
   "cell_type": "markdown",
   "id": "55e2813d",
   "metadata": {},
   "source": [
    "💡 Initial Check on DF"
   ]
  },
  {
   "cell_type": "code",
   "execution_count": 7,
   "id": "650617f4",
   "metadata": {},
   "outputs": [
    {
     "data": {
      "text/plain": [
       "Ticket ID                          0\n",
       "Customer Name                      0\n",
       "Customer Email                     0\n",
       "Customer Age                       0\n",
       "Customer Gender                    0\n",
       "Product Purchased                  0\n",
       "Date of Purchase                   0\n",
       "Ticket Type                        0\n",
       "Ticket Subject                     0\n",
       "Ticket Description                 0\n",
       "Ticket Status                      0\n",
       "Resolution                      5700\n",
       "Ticket Priority                    0\n",
       "Ticket Channel                     0\n",
       "First Response Time             2819\n",
       "Time to Resolution              5700\n",
       "Customer Satisfaction Rating    5700\n",
       "dtype: int64"
      ]
     },
     "execution_count": 7,
     "metadata": {},
     "output_type": "execute_result"
    }
   ],
   "source": [
    "#NULL VALUES\n",
    "\n",
    "cs_data.isnull().sum()"
   ]
  },
  {
   "cell_type": "code",
   "execution_count": 16,
   "id": "d8d6078f",
   "metadata": {},
   "outputs": [
    {
     "data": {
      "text/plain": [
       "\"8469 total tickets being that 70.0% don't have a resolution\""
      ]
     },
     "execution_count": 16,
     "metadata": {},
     "output_type": "execute_result"
    }
   ],
   "source": [
    "#total tickets and tickets without a response\n",
    "f'{cs_data.shape[0]} total tickets being that {round(5700/cs_data.shape[0], 1)*100}% don\\'t have a resolution'"
   ]
  },
  {
   "cell_type": "code",
   "execution_count": 17,
   "id": "ed014130",
   "metadata": {},
   "outputs": [
    {
     "data": {
      "text/plain": [
       "array(['Pending Customer Response', 'Closed', 'Open'], dtype=object)"
      ]
     },
     "execution_count": 17,
     "metadata": {},
     "output_type": "execute_result"
    }
   ],
   "source": [
    "#breakdown on ticket status\n",
    "\n",
    "cs_data['Ticket Status'].unique()"
   ]
  },
  {
   "cell_type": "code",
   "execution_count": 29,
   "id": "3633fa2e",
   "metadata": {},
   "outputs": [
    {
     "data": {
      "text/plain": [
       "'2881 pending tickets, 34.0%'"
      ]
     },
     "execution_count": 29,
     "metadata": {},
     "output_type": "execute_result"
    }
   ],
   "source": [
    "pending_customer_tickets = len(cs_data[cs_data['Ticket Status'] =='Pending Customer Response'])\n",
    "\n",
    "f'{pending_customer_tickets} pending tickets, {round(pending_customer_tickets/cs_data.shape[0], 2)*100}%'"
   ]
  },
  {
   "cell_type": "code",
   "execution_count": 28,
   "id": "772ac18b",
   "metadata": {},
   "outputs": [
    {
     "data": {
      "text/plain": [
       "'2769 pending tickets, 33.0%'"
      ]
     },
     "execution_count": 28,
     "metadata": {},
     "output_type": "execute_result"
    }
   ],
   "source": [
    "closed_tickets = len(cs_data[cs_data['Ticket Status'] =='Closed'])\n",
    "\n",
    "f'{closed_tickets} pending tickets, {round(closed_tickets/cs_data.shape[0], 2)*100}%'"
   ]
  },
  {
   "cell_type": "code",
   "execution_count": 30,
   "id": "e577e619",
   "metadata": {},
   "outputs": [
    {
     "data": {
      "text/plain": [
       "'2819 pending tickets, 33.0%'"
      ]
     },
     "execution_count": 30,
     "metadata": {},
     "output_type": "execute_result"
    }
   ],
   "source": [
    "open_tickets = len(cs_data[cs_data['Ticket Status'] =='Open'])\n",
    "\n",
    "f'{open_tickets} pending tickets, {round(open_tickets/cs_data.shape[0], 2)*100}%'"
   ]
  },
  {
   "cell_type": "markdown",
   "id": "f0aa20dc",
   "metadata": {},
   "source": [
    "# AGES OF CONTACT"
   ]
  },
  {
   "cell_type": "code",
   "execution_count": 39,
   "id": "0d679d8a",
   "metadata": {},
   "outputs": [
    {
     "data": {
      "image/png": "[encoded data removed]",
      "text/plain": [
       "<Figure size 640x480 with 1 Axes>"
      ]
     },
     "metadata": {},
     "output_type": "display_data"
    }
   ],
   "source": [
    "plt.hist(cs_data['Customer Age'], bins=15);"
   ]
  },
  {
   "cell_type": "code",
   "execution_count": 44,
   "id": "c04af082",
   "metadata": {},
   "outputs": [
    {
     "data": {
      "text/plain": [
       "array(['Other', 'Female', 'Male'], dtype=object)"
      ]
     },
     "execution_count": 44,
     "metadata": {},
     "output_type": "execute_result"
    }
   ],
   "source": [
    "cs_data['Customer Gender'].unique()"
   ]
  },
  {
   "cell_type": "code",
   "execution_count": 51,
   "id": "6e3bc15d",
   "metadata": {},
   "outputs": [
    {
     "data": {
      "text/plain": [
       "<matplotlib.legend.Legend at 0x13b549c30>"
      ]
     },
     "execution_count": 51,
     "metadata": {},
     "output_type": "execute_result"
    },
    {
     "data": {
      "image/png": "[encoded data removed]",
      "text/plain": [
       "<Figure size 640x480 with 1 Axes>"
      ]
     },
     "metadata": {},
     "output_type": "display_data"
    }
   ],
   "source": [
    "x = ['Other', 'Female', 'Male']\n",
    "\n",
    "y = [len(cs_data[cs_data['Customer Gender'] =='Other']), len(cs_data[cs_data['Customer Gender'] =='Female']),\\\n",
    "    len(cs_data[cs_data['Customer Gender'] =='Male'])]\n",
    "\n",
    "bar_label = ['Other', 'Female', 'Male']\n",
    "bar_colors = ['tab:blue', 'tab:red', 'tab:orange']\n",
    "\n",
    "plt.bar(x, y, label=bar_label, color=bar_colors)\n",
    "plt.legend()"
   ]
  },
  {
   "cell_type": "code",
   "execution_count": 53,
   "id": "22d4ae11",
   "metadata": {
    "scrolled": true
   },
   "outputs": [
    {
     "data": {
      "text/plain": [
       "Product Purchased\n",
       "Canon EOS                         240\n",
       "GoPro Hero                        228\n",
       "Nest Thermostat                   225\n",
       "Philips Hue Lights                221\n",
       "Amazon Echo                       221\n",
       "LG Smart TV                       219\n",
       "Sony Xperia                       217\n",
       "Roomba Robot Vacuum               216\n",
       "Apple AirPods                     213\n",
       "LG OLED                           213\n",
       "iPhone                            212\n",
       "Sony 4K HDR TV                    210\n",
       "Garmin Forerunner                 208\n",
       "LG Washing Machine                208\n",
       "Canon DSLR Camera                 206\n",
       "Nikon D                           204\n",
       "Nintendo Switch Pro Controller    203\n",
       "Google Pixel                      203\n",
       "Fitbit Charge                     202\n",
       "Sony PlayStation                  202\n",
       "HP Pavilion                       200\n",
       "Microsoft Office                  200\n",
       "Amazon Kindle                     198\n",
       "Google Nest                       198\n",
       "Dyson Vacuum Cleaner              198\n",
       "Bose SoundLink Speaker            197\n",
       "Autodesk AutoCAD                  196\n",
       "Microsoft Xbox Controller         196\n",
       "Samsung Galaxy                    194\n",
       "PlayStation                       192\n",
       "Fitbit Versa Smartwatch           191\n",
       "Microsoft Surface                 190\n",
       "Bose QuietComfort                 190\n",
       "Samsung Soundbar                  188\n",
       "Xbox                              187\n",
       "Asus ROG                          187\n",
       "MacBook Pro                       186\n",
       "Dell XPS                          185\n",
       "Lenovo ThinkPad                   183\n",
       "GoPro Action Camera               183\n",
       "Adobe Photoshop                   181\n",
       "Nintendo Switch                   178\n",
       "Name: count, dtype: int64"
      ]
     },
     "execution_count": 53,
     "metadata": {},
     "output_type": "execute_result"
    }
   ],
   "source": [
    "#type of product\n",
    "\n",
    "cs_data['Product Purchased'].value_counts()"
   ]
  },
  {
   "cell_type": "code",
   "execution_count": 54,
   "id": "ba47024b",
   "metadata": {},
   "outputs": [
    {
     "data": {
      "text/plain": [
       "Ticket Type\n",
       "Refund request          1752\n",
       "Technical issue         1747\n",
       "Cancellation request    1695\n",
       "Product inquiry         1641\n",
       "Billing inquiry         1634\n",
       "Name: count, dtype: int64"
      ]
     },
     "execution_count": 54,
     "metadata": {},
     "output_type": "execute_result"
    }
   ],
   "source": [
    "cs_data['Ticket Type'].value_counts()"
   ]
  },
  {
   "cell_type": "code",
   "execution_count": 55,
   "id": "e73a0615",
   "metadata": {},
   "outputs": [
    {
     "data": {
      "text/plain": [
       "Ticket Priority\n",
       "Medium      2192\n",
       "Critical    2129\n",
       "High        2085\n",
       "Low         2063\n",
       "Name: count, dtype: int64"
      ]
     },
     "execution_count": 55,
     "metadata": {},
     "output_type": "execute_result"
    }
   ],
   "source": [
    "cs_data['Ticket Priority'].value_counts()"
   ]
  },
  {
   "cell_type": "code",
   "execution_count": 56,
   "id": "55280440",
   "metadata": {},
   "outputs": [
    {
     "data": {
      "text/plain": [
       "Ticket Channel\n",
       "Email           2143\n",
       "Phone           2132\n",
       "Social media    2121\n",
       "Chat            2073\n",
       "Name: count, dtype: int64"
      ]
     },
     "execution_count": 56,
     "metadata": {},
     "output_type": "execute_result"
    }
   ],
   "source": [
    "cs_data['Ticket Channel'].value_counts()"
   ]
  }
 ],
 "metadata": {
  "kernelspec": {
   "display_name": "Python 3 (ipykernel)",
   "language": "python",
   "name": "python3"
  },
  "language_info": {
   "codemirror_mode": {
    "name": "ipython",
    "version": 3
   },
   "file_extension": ".py",
   "mimetype": "text/x-python",
   "name": "python",
   "nbconvert_exporter": "python",
   "pygments_lexer": "ipython3",
   "version": "3.10.6"
  },
  "toc": {
   "base_numbering": 1,
   "nav_menu": {},
   "number_sections": true,
   "sideBar": true,
   "skip_h1_title": false,
   "title_cell": "Table of Contents",
   "title_sidebar": "Contents",
   "toc_cell": false,
   "toc_position": {},
   "toc_section_display": true,
   "toc_window_display": false
  }
 },
 "nbformat": 4,
 "nbformat_minor": 5
}
